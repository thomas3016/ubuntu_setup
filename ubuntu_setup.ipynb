{
 "cells": [
  {
   "cell_type": "markdown",
   "metadata": {
    "toc": "true"
   },
   "source": [
    "# Table of Contents\n",
    " <p><div class=\"lev2 toc-item\"><a href=\"#ROS\" data-toc-modified-id=\"ROS-01\"><span class=\"toc-item-num\">0.1&nbsp;&nbsp;</span>ROS</a></div><div class=\"lev1 toc-item\"><a href=\"#apt-get-install\" data-toc-modified-id=\"apt-get-install-1\"><span class=\"toc-item-num\">1&nbsp;&nbsp;</span>apt-get install</a></div><div class=\"lev2 toc-item\"><a href=\"#Cuda(ver-7.5)\" data-toc-modified-id=\"Cuda(ver-7.5)-11\"><span class=\"toc-item-num\">1.1&nbsp;&nbsp;</span>Cuda(ver 7.5)</a></div><div class=\"lev2 toc-item\"><a href=\"#OpenCV\" data-toc-modified-id=\"OpenCV-12\"><span class=\"toc-item-num\">1.2&nbsp;&nbsp;</span>OpenCV</a></div><div class=\"lev2 toc-item\"><a href=\"#QT\" data-toc-modified-id=\"QT-13\"><span class=\"toc-item-num\">1.3&nbsp;&nbsp;</span>QT</a></div><div class=\"lev2 toc-item\"><a href=\"#.bashrc\" data-toc-modified-id=\".bashrc-14\"><span class=\"toc-item-num\">1.4&nbsp;&nbsp;</span>.bashrc</a></div><div class=\"lev2 toc-item\"><a href=\"#caffe\" data-toc-modified-id=\"caffe-15\"><span class=\"toc-item-num\">1.5&nbsp;&nbsp;</span>caffe</a></div><div class=\"lev2 toc-item\"><a href=\"#Autoware\" data-toc-modified-id=\"Autoware-16\"><span class=\"toc-item-num\">1.6&nbsp;&nbsp;</span>Autoware</a></div><div class=\"lev1 toc-item\"><a href=\"#python3\" data-toc-modified-id=\"python3-2\"><span class=\"toc-item-num\">2&nbsp;&nbsp;</span>python3</a></div><div class=\"lev2 toc-item\"><a href=\"#tensorflow(ver.-0.1)\" data-toc-modified-id=\"tensorflow(ver.-0.1)-21\"><span class=\"toc-item-num\">2.1&nbsp;&nbsp;</span>tensorflow(ver. 0.1)</a></div>"
   ]
  },
  {
   "cell_type": "markdown",
   "metadata": {},
   "source": [
    "## ROS"
   ]
  },
  {
   "cell_type": "raw",
   "metadata": {},
   "source": [
    "sudo sh -c 'echo \"deb http://packages.ros.org/ros/ubuntu trusty main\" > /etc/apt/sources.list.d/ros-latest.list'\n",
    "\n",
    "wget http://packages.ros.org/ros.key -O - | sudo apt-key add -\n",
    "\n",
    "sudo apt-get update\n",
    "\n",
    "sudo rosdep init\n",
    "rosdep update\n",
    "echo \"source /opt/ros/indigo/setup.bash\" >> ~/.bashrc\n",
    "source ~/.bashrc\n",
    "sudo apt-get install python-rosinstall\n",
    "\n",
    "sudo apt-get install ros-indigo-desktop-full ros-indigo-nmea-msgs ros-indigo-nmea-navsat-driver ros-indigo-sound-play ros-indigo-jsk-visualization\n",
    "sudo apt-get install libnlopt-dev freeglut3-dev qtbase5-dev libqt5opengl5-dev libssh2-1-dev libarmadillo-dev libpcap-dev gksu"
   ]
  },
  {
   "cell_type": "markdown",
   "metadata": {
    "collapsed": true
   },
   "source": [
    "# apt-get install"
   ]
  },
  {
   "cell_type": "raw",
   "metadata": {},
   "source": [
    "sudo apt-get install ros-indigo-desktop-full ros-indigo-nmea-msgs ros-indigo-nmea-navsat-driver ros-indigo-sound-play ros-indigo-jsk-visualization\n",
    "sudo apt-get install libnlopt-dev freeglut3-dev qtbase5-dev libqt5opengl5-dev libssh2-1-dev libarmadillo-dev libpcap-dev gksu libgl1-mesa-dev"
   ]
  },
  {
   "cell_type": "markdown",
   "metadata": {},
   "source": [
    "## Cuda(ver 7.5)"
   ]
  },
  {
   "cell_type": "raw",
   "metadata": {},
   "source": [
    "http://developer.nvidia.com/cuda-downloads から CUDA をダウンロード\n",
    "(以下、cuda-repo-ubuntu1404_7.5を想定)\n",
    "$ sudo dpkg -i cuda-repo-ubuntu1404_7.5\n",
    "$ sudo apt-get update\n",
    "$ sudo apt-get install cuda-7.5"
   ]
  },
  {
   "cell_type": "raw",
   "metadata": {},
   "source": [
    "tar xvzf cudnn-7.5-linux-x64-v5.1-ga.tgz\n",
    "sudo cp cuda/include/cudnn.h /usr/local/cuda/include\n",
    "sudo cp cuda/lib64/libcudnn* /usr/local/cuda/lib64\n",
    "sudo chmod a+r /usr/local/cuda/include/cudnn.h /usr/local/cuda/lib64/libcudnn*"
   ]
  },
  {
   "cell_type": "raw",
   "metadata": {},
   "source": [
    "#sudo apt-get install nvidia-367 or sudo apt-get install nvidia-361"
   ]
  },
  {
   "cell_type": "raw",
   "metadata": {},
   "source": [
    "nvcc -V\n",
    "nvidia-smi"
   ]
  },
  {
   "cell_type": "markdown",
   "metadata": {},
   "source": [
    "## OpenCV"
   ]
  },
  {
   "cell_type": "raw",
   "metadata": {},
   "source": [
    "sudo apt-get install libgflags-dev libgoogle-glog-dev liblmdb-dev\n",
    "\n",
    "\n",
    "sudo apt-get -y install libopencv-dev build-essential cmake git libgtk2.0-dev pkg-config python-dev python-numpy libdc1394-22 libdc1394-22-dev libjpeg-dev libpng12-dev libtiff4-dev libjasper-dev libavcodec-dev libavformat-dev libswscale-dev libxine-dev libgstreamer0.10-dev libgstreamer-plugins-base0.10-dev libv4l-dev libtbb-dev libqt4-dev libfaac-dev libmp3lame-dev libopencore-amrnb-dev libopencore-amrwb-dev libtheora-dev libvorbis-dev libxvidcore-dev x264 v4l-utils unzip"
   ]
  },
  {
   "cell_type": "raw",
   "metadata": {},
   "source": [
    "unzip 2.4.13.zip\n",
    "cd opencv-2.4.13/\n",
    "mkdir build && cd build/"
   ]
  },
  {
   "cell_type": "raw",
   "metadata": {},
   "source": [
    "cmake -D CMAKE_BUILD_TYPE=RELEASE -D CMAKE_INSTALL_PREFIX=$INSTALL_DIR -D WITH_TBB=ON -D BUILD_NEW_PYTHON_SUPPORT=ON -D WITH_V4L=ON -D INSTALL_C_EXAMPLES=ON -D INSTALL_PYTHON_EXAMPLES=ON -D BUILD_EXAMPLES=ON -D WITH_OPENGL=ON -D WITH_VTK=ON -DBUILD_TIFF=OFF -DCUDA_GENERATION=Auto .."
   ]
  },
  {
   "cell_type": "raw",
   "metadata": {},
   "source": [
    "make -j8\n",
    "sudo make install \n",
    "sudo ldconfig"
   ]
  },
  {
   "cell_type": "raw",
   "metadata": {},
   "source": [
    "もしかしたら必要\n",
    "\n",
    "$ sudo apt-get -y install build-essential cmake git libgtk2.0-dev pkg-config python-dev python-numpy libdc1394-22 libdc1394-22-dev libjpeg-dev libpng12-dev libtiff4-dev libjasper-dev libavcodec-dev libavformat-dev libswscale-dev libxine-dev libgstreamer0.10-dev libgstreamer-plugins-base0.10-dev libv4l-dev libtbb-dev libqt4-dev libfaac-dev libmp3lame-dev libopencore-amrnb-dev libopencore-amrwb-dev libtheora-dev libvorbis-dev libxvidcore-dev x264 v4l-utils unzip\n"
   ]
  },
  {
   "cell_type": "markdown",
   "metadata": {},
   "source": [
    "## QT"
   ]
  },
  {
   "cell_type": "raw",
   "metadata": {},
   "source": [
    "https://www.qt.io/\n",
    "wget http://download.qt.io/official_releases/qt/5.7/5.7.0/qt-opensource-linux-x64-5.7.0.run\n",
    "chmod +x qt-opensource-linux-x64-5.7.0.run\n",
    "./qt-opensource-linux-x64-5.7.0.run\n",
    "sudo apt-get install mesa-common-dev\n"
   ]
  },
  {
   "cell_type": "markdown",
   "metadata": {},
   "source": [
    "## .bashrc"
   ]
  },
  {
   "cell_type": "raw",
   "metadata": {},
   "source": [
    "source /opt/ros/indigo/setup.bash\n",
    "export PATH=/home/katou01/anaconda2/bin:$PATH\n",
    "export PATH=\"/usr/local/cuda-7.5/bin:$PATH\"\n",
    "export PATH=\"/usr/local/cuda-7.5:$PATH\"\n",
    "export LD_LIBRARY_PATH=\"/usr/local/cuda-7.5/lib64:$LD_LIBRARY_PATH\"\n",
    "\n",
    "export CAFFE_ROOT=\"/home/katou01/caffe\"\n",
    "export PYTHONPATH=\"/home/katou01/caffe/python:$PYTHONPATH\"\n",
    " #added by Anaconda2 4.2.0 installer\n",
    "export PATH=\"/home/katou01/anaconda2/bin:$PATH\"\n",
    "\n",
    "export C_INCLUDE_PATH=\"/home/katou01/anaconda2/include/:$C_INCLUDE_PATH\"\n",
    "export CPLUS_INCLUDE_PATH=\"/home/katou01/anaconda2/include/:$CPLUS_INCLUDE_PATH\"\n",
    "export CPLUS_INCLUDE_PATH=\"/home/katou01/anaconda2/include/python2.7/:$CPLUS_INCLUDE_PATH\"\n",
    "\n",
    "export LD_LIBRARY_PATH=\"/lib/x86_64-linux-gnu:$LD_LIBRARY_PATH\"\n",
    "export CPLUS_INCLUDE_PATH=/usr/include/python2.7"
   ]
  },
  {
   "cell_type": "markdown",
   "metadata": {},
   "source": [
    "## caffe"
   ]
  },
  {
   "cell_type": "markdown",
   "metadata": {},
   "source": [
    "http://qiita.com/masataka46/items/ac22818aac89f9c9dd0e"
   ]
  },
  {
   "cell_type": "raw",
   "metadata": {},
   "source": [
    "sudo apt-get install libatlas-base-dev libprotobuf-dev libleveldb-dev libsnappy-dev libopencv-dev libhdf5-serial-dev protobuf-compiler"
   ]
  },
  {
   "cell_type": "raw",
   "metadata": {},
   "source": [
    "git clone https://github.com/BVLC/caffe.git\n",
    "cd caffe\n",
    "cp Makefile.config.example Makefile.config\n",
    "\n",
    "edit file Makefile.config\n",
    "\n",
    "Use cudnn\n",
    "#anaconda\n",
    "python layer\n",
    "\n",
    "vi include/caffe/layers/python_layer.hpp\n",
    "#self_.attr(\"phase\") = static_cast<int>(this->phase_); \n",
    "\n",
    "make all -j8\n",
    "make test -j8\n",
    "make runtest -j8\n",
    "\n",
    "sudo apt-get install python-dev python-pip python-numpy python-skimage gfortran\n",
    "sudo pip install -r ~/caffe/python/requirements.txt\n",
    "\n",
    "make pycaffe"
   ]
  },
  {
   "cell_type": "markdown",
   "metadata": {},
   "source": [
    "## Autoware"
   ]
  },
  {
   "cell_type": "raw",
   "metadata": {},
   "source": [
    "cd $HOME\n",
    "git clone https://github.com/CPFL/Autoware.git\n",
    "cd ~/Autoware/ros/src\n",
    "catkin_init_workspace\n",
    "cd ../\n",
    "./catkin_make_release\n"
   ]
  },
  {
   "cell_type": "code",
   "execution_count": null,
   "metadata": {
    "collapsed": true
   },
   "outputs": [],
   "source": [
    "wget http://www.vision.caltech.edu/Image_Datasets/Caltech101/101_ObjectCategories.tar.gz\n",
    "tar xf 101_ObjectCategories.tar.gz\n",
    "./scripts/download_model_binary.py ./models/bvlc_reference_caffenet\n",
    "cd examples/imagenet\n",
    "wget https://raw.githubusercontent.com/aybassiouny/wincaffe-cmake/master/examples/imagenet/imagenet_deploy.prototxt\n",
    "cp imagenet_deploy.prototxt imagenet_feature.prototxt\n",
    "\n",
    "wget https://raw.githubusercontent.com/sguada/caffe-public/master/models/get_caffe_reference_imagenet_model.sh\n",
    "chmod u+x get_caffe_reference_imagenet_model.sh\n",
    "./get_caffe_reference_imagenet_model.sh"
   ]
  },
  {
   "cell_type": "raw",
   "metadata": {},
   "source": [
    "cd python\n",
    "python classify.py --raw_scale 255 ../examples/101_ObjectCategories/airplanes/image_0001.jpg ../result.npy\n",
    "cd ..\n",
    "python show_result.py data/ilsvrc12/synset_words.txt result.npy\n",
    "\n",
    "sudo eog ./examples/101_ObjectCategories/airplanes/image_0001.jpg "
   ]
  },
  {
   "cell_type": "code",
   "execution_count": null,
   "metadata": {
    "collapsed": true
   },
   "outputs": [],
   "source": [
    "import sys\n",
    "import os\n",
    "import logging \n",
    "import numpy as np\n",
    "import leveldb\n",
    "import caffe"
   ]
  },
  {
   "cell_type": "raw",
   "metadata": {},
   "source": [
    "CAFFE_ROOT = \"/home/katou01/caffe/\"\n",
    "DATA_ROOT = \"\"\n",
    "LAYER = 'fc7'\n",
    "data = 0\n",
    "\n",
    "MODEL = CAFFE_ROOT + \"examples/imagenet/imagenet_deploy.prototxt\"\n",
    "PRETRAINED =  CAFFE_ROOT + \"examples/imagenet/caffe_reference_imagenet_model\"\n",
    "MEAN = CAFFE_ROOT + \"python/caffe/imagenet/ilsvrc_2012_mean.npy\"\n",
    "\n",
    "net = caffe.Classifier(\n",
    "    model_file = MODEL, \n",
    "    pretrained_file = PRETRAINED,\n",
    "    image_dims = (256, 256)\n",
    ")\n",
    "caffe.set_mode_gpu()\n",
    "net.transformer.set_mean('data', np.load(MEAN))\n",
    "net.transformer.set_channel_swap('data', (2, 1, 0))\n",
    "net.transformer.set_raw_scale('data', 255)\n",
    "\n",
    "image = caffe.io.load_image(CAFFE_ROOT + \"examples/images/cat.jpg\")\n",
    "prediction = net.predict([image]) #予測値\n",
    "blobs = net.blobs[LAYER].data\n",
    "n_batches = blobs.shape[0]\n",
    "features = blobs[data].flatten().tolist() #特徴量\n",
    "prediction.shape"
   ]
  },
  {
   "cell_type": "raw",
   "metadata": {},
   "source": [
    "blobs = net.blobs['data'].data\n",
    "print 'blobs', blobs.shape\n",
    "print 'MEAN_shape',np.load(MEAN).shape\n",
    "print 'data_shape', blobs.shape[2:]"
   ]
  },
  {
   "cell_type": "raw",
   "metadata": {},
   "source": [
    "show_result.py\n",
    "\n",
    "#! /usr/bin/env python\n",
    "# -*- coding: utf-8 -*-\n",
    "\n",
    "import sys, numpy\n",
    "\n",
    "categories = numpy.loadtxt(sys.argv[1], str, delimiter=\"\\t\")\n",
    "scores = numpy.load(sys.argv[2])\n",
    "top_k = 3\n",
    "prediction = zip(scores[0].tolist(), categories)\n",
    "prediction.sort(cmp=lambda x, y: cmp(x[0], y[0]), reverse=True)\n",
    "for rank, (score, name) in enumerate(prediction[:top_k], start=1):\n",
    "   print('#%d | %s | %4.1f%%' % (rank, name, score * 100))\n"
   ]
  },
  {
   "cell_type": "raw",
   "metadata": {},
   "source": [
    "io.py\n",
    "\n",
    "\n",
    "if ms != self.inputs[in_][1:]:\n",
    "\t\tin_shape = self.inputs[in_][1:]\n",
    "\t\tm_min, m_max = mean.min(), mean.max()\n",
    "\t\tnormal_mean = (mean - m_min) / (m_max - m_min)\n",
    "\t\tmean = resize_image(normal_mean.transpose((1,2,0)),in_shape[1:]).transpose((2,0,1)) * (m_max - m_min) + m_min \n",
    "                #raise ValueError('Mean shape incompatible with input shape.')"
   ]
  },
  {
   "cell_type": "code",
   "execution_count": null,
   "metadata": {
    "collapsed": true
   },
   "outputs": [],
   "source": []
  },
  {
   "cell_type": "raw",
   "metadata": {},
   "source": [
    "cmake -D CMAKE_BUILD_TYPE=RELEASE -D CMAKE_INSTALL_PREFIX=/home/katou01/.virtualenvs/py3/local  -D INSTALL_PYTHON_EXAMPLES=OFF -D PYTHON_EXECUTABLE=$(which python3) -D BUILD_opencv_python3=ON -D BUILD_opencv_python2=ON BUILD_EXAMPLES=OFF -D WITH_FFMPEG=OFF -D  BUILD_opencv_java=OFF WITH_CUDA=ON  ..\n",
    "\n",
    "\n",
    "cmake -D CMAKE_BUILD_TYPE=RELEASE -D CMAKE_INSTALL_PREFIX=/home/katou01/.virtualenvs/py3/local  -DPYTHON_INCLUDE_DIRS=/home/katou01/.virtualenvs/py3/include/python3.4m -DPYTHON3_LIBRARY=/home/katou01/.virtualenvs/py3/lib/python3.4/config-3.4m-x86_64-linux-gnu/libpython3.4m.so -D PYTHON3_NUMPY_INCLUDE_DIRS=/home/katou01/.virtualenvs/py3/lib/python3.4/site-packages/numpy/core/include -DPYTHON3_PACKAGES_PATH=/home/katou01/.virtualenvs/py3/lib/python3.4/site-packages .."
   ]
  },
  {
   "cell_type": "code",
   "execution_count": null,
   "metadata": {
    "collapsed": true
   },
   "outputs": [],
   "source": [
    "http://www.pyimagesearch.com/2015/07/20/install-opencv-3-0-and-python-3-4-on-ubuntu/"
   ]
  },
  {
   "cell_type": "markdown",
   "metadata": {
    "collapsed": true
   },
   "source": [
    "# python3"
   ]
  },
  {
   "cell_type": "raw",
   "metadata": {},
   "source": [
    "python3の環境構築\n",
    "sudo pip3 install virtualenv\n",
    " \n",
    "\n",
    "virtualenvwrapperをインストール\n",
    "\n",
    "\n",
    "    sudo pip3 install virtualenvwrapper\n",
    "    若しくは\n",
    "    sudo apt-get install virtualenvwrapper\n",
    " \n",
    "\n",
    ".bashrcにvirtualenvの設定を追記\n",
    "\n",
    "export WORKON_HOME=$HOME/.virtualenvs\n",
    "export PROJECT_HOME=$HOME/Devel\n",
    "source /usr/local/bin/virtualenvwrapper.sh     #sudo find / -iname \"virtualenvwrapper.sh\" -lsで場所を検索\n",
    "追記し終わったら\n",
    "\n",
    "source ./.bashrc\n",
    " \n",
    "\n",
    "virtualenvwrapperで新しい環境を作る\n",
    "\n",
    "mkvirtualenv [名前] --python /usr/bin/python3\n",
    " \n",
    "\n",
    "virtualenvwrapperで環境に入る\n",
    "\n",
    "workon [名前]\n",
    " \n",
    "\n",
    "virtualenvwrapperで環境を削除\n",
    "\n",
    "rmvirtualenvwrapper [名前]\n",
    " \n",
    "\n",
    "virtualenvwrapperで環境から出る\n",
    "\n",
    "deactivate"
   ]
  },
  {
   "cell_type": "markdown",
   "metadata": {},
   "source": [
    "## tensorflow(ver. 0.1)"
   ]
  },
  {
   "cell_type": "code",
   "execution_count": null,
   "metadata": {
    "collapsed": true
   },
   "outputs": [],
   "source": []
  }
 ],
 "metadata": {
  "anaconda-cloud": {},
  "kernelspec": {
   "display_name": "Python 2",
   "language": "python",
   "name": "python2"
  },
  "language_info": {
   "codemirror_mode": {
    "name": "ipython",
    "version": 2
   },
   "file_extension": ".py",
   "mimetype": "text/x-python",
   "name": "python",
   "nbconvert_exporter": "python",
   "pygments_lexer": "ipython2",
   "version": "2.7.12"
  },
  "toc": {
   "nav_menu": {
    "height": "156px",
    "width": "252px"
   },
   "navigate_menu": true,
   "number_sections": true,
   "sideBar": true,
   "threshold": 4,
   "toc_cell": true,
   "toc_section_display": "block",
   "toc_window_display": false
  }
 },
 "nbformat": 4,
 "nbformat_minor": 1
}
